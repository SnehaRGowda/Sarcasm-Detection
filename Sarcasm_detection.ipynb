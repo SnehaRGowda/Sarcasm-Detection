{
  "nbformat": 4,
  "nbformat_minor": 0,
  "metadata": {
    "colab": {
      "name": "Sarcasm detection.ipynb",
      "provenance": [],
      "collapsed_sections": [
        "6J2QrK9Cl4dw",
        "p0wkigXMntc3",
        "49-YQT-Nq2f4"
      ],
      "authorship_tag": "ABX9TyPUnaEZX0Ym8PQhZ1U4oT25",
      "include_colab_link": true
    },
    "kernelspec": {
      "name": "python3",
      "display_name": "Python 3"
    }
  },
  "cells": [
    {
      "cell_type": "markdown",
      "metadata": {
        "id": "view-in-github",
        "colab_type": "text"
      },
      "source": [
        "<a href=\"https://colab.research.google.com/github/SnehaRGowda/Sarcasm-Detection/blob/master/Sarcasm_detection.ipynb\" target=\"_parent\"><img src=\"https://colab.research.google.com/assets/colab-badge.svg\" alt=\"Open In Colab\"/></a>"
      ]
    },
    {
      "cell_type": "markdown",
      "metadata": {
        "id": "GmpI0apGk9Ym",
        "colab_type": "text"
      },
      "source": [
        "# **News Headlines Dataset For Sarcasm Detection**"
      ]
    },
    {
      "cell_type": "markdown",
      "metadata": {
        "id": "uUgDjQVc_Qef",
        "colab_type": "text"
      },
      "source": [
        "**Import required** **libraries**"
      ]
    },
    {
      "cell_type": "code",
      "metadata": {
        "id": "8mjPF06N2aTt",
        "colab_type": "code",
        "colab": {
          "base_uri": "https://localhost:8080/",
          "height": 33
        },
        "outputId": "cd323a75-02d3-430c-e276-cea4326029d0"
      },
      "source": [
        "import pandas as pd\n",
        "import numpy as np\n",
        "from sklearn.feature_extraction.text import TfidfVectorizer\n",
        "from sklearn.decomposition import TruncatedSVD\n",
        "import tensorflow as tf\n",
        "from tensorflow import keras\n",
        "from sklearn.preprocessing import LabelEncoder\n",
        "from sklearn.model_selection import train_test_split\n",
        "import matplotlib.pyplot as plt\n",
        "import tensorflow as tf\n",
        "from tensorflow import keras  \n",
        "import tensorflow_datasets as tfds\n",
        "from keras.preprocessing.sequence import pad_sequences\n",
        "from keras.preprocessing.text import Tokenizer\n",
        "from keras.models import Sequential\n",
        "from keras.layers import Dense, Embedding, GRU, Dropout, LSTM\n",
        "from keras.callbacks import EarlyStopping\n",
        "from keras.optimizers import Adam\n",
        "import re\n",
        "from keras.layers import Dense, Embedding, LSTM, SpatialDropout1D"
      ],
      "execution_count": 3,
      "outputs": [
        {
          "output_type": "stream",
          "text": [
            "Using TensorFlow backend.\n"
          ],
          "name": "stderr"
        }
      ]
    },
    {
      "cell_type": "markdown",
      "metadata": {
        "id": "qXd59Su0_egM",
        "colab_type": "text"
      },
      "source": [
        "**Dataset**"
      ]
    },
    {
      "cell_type": "code",
      "metadata": {
        "id": "Z9Cb-XWH-Nnf",
        "colab_type": "code",
        "colab": {
          "base_uri": "https://localhost:8080/",
          "height": 196
        },
        "outputId": "1fefbd0f-6a14-48bd-f560-b13bf80611aa"
      },
      "source": [
        "df = pd.read_json(\"/content/Sarcasm_Headlines_Dataset_v2.json\", lines=True)\n",
        "df.head()"
      ],
      "execution_count": 4,
      "outputs": [
        {
          "output_type": "execute_result",
          "data": {
            "text/html": [
              "<div>\n",
              "<style scoped>\n",
              "    .dataframe tbody tr th:only-of-type {\n",
              "        vertical-align: middle;\n",
              "    }\n",
              "\n",
              "    .dataframe tbody tr th {\n",
              "        vertical-align: top;\n",
              "    }\n",
              "\n",
              "    .dataframe thead th {\n",
              "        text-align: right;\n",
              "    }\n",
              "</style>\n",
              "<table border=\"1\" class=\"dataframe\">\n",
              "  <thead>\n",
              "    <tr style=\"text-align: right;\">\n",
              "      <th></th>\n",
              "      <th>is_sarcastic</th>\n",
              "      <th>headline</th>\n",
              "      <th>article_link</th>\n",
              "    </tr>\n",
              "  </thead>\n",
              "  <tbody>\n",
              "    <tr>\n",
              "      <th>0</th>\n",
              "      <td>1</td>\n",
              "      <td>thirtysomething scientists unveil doomsday clo...</td>\n",
              "      <td>https://www.theonion.com/thirtysomething-scien...</td>\n",
              "    </tr>\n",
              "    <tr>\n",
              "      <th>1</th>\n",
              "      <td>0</td>\n",
              "      <td>dem rep. totally nails why congress is falling...</td>\n",
              "      <td>https://www.huffingtonpost.com/entry/donna-edw...</td>\n",
              "    </tr>\n",
              "    <tr>\n",
              "      <th>2</th>\n",
              "      <td>0</td>\n",
              "      <td>eat your veggies: 9 deliciously different recipes</td>\n",
              "      <td>https://www.huffingtonpost.com/entry/eat-your-...</td>\n",
              "    </tr>\n",
              "    <tr>\n",
              "      <th>3</th>\n",
              "      <td>1</td>\n",
              "      <td>inclement weather prevents liar from getting t...</td>\n",
              "      <td>https://local.theonion.com/inclement-weather-p...</td>\n",
              "    </tr>\n",
              "    <tr>\n",
              "      <th>4</th>\n",
              "      <td>1</td>\n",
              "      <td>mother comes pretty close to using word 'strea...</td>\n",
              "      <td>https://www.theonion.com/mother-comes-pretty-c...</td>\n",
              "    </tr>\n",
              "  </tbody>\n",
              "</table>\n",
              "</div>"
            ],
            "text/plain": [
              "   is_sarcastic  ...                                       article_link\n",
              "0             1  ...  https://www.theonion.com/thirtysomething-scien...\n",
              "1             0  ...  https://www.huffingtonpost.com/entry/donna-edw...\n",
              "2             0  ...  https://www.huffingtonpost.com/entry/eat-your-...\n",
              "3             1  ...  https://local.theonion.com/inclement-weather-p...\n",
              "4             1  ...  https://www.theonion.com/mother-comes-pretty-c...\n",
              "\n",
              "[5 rows x 3 columns]"
            ]
          },
          "metadata": {
            "tags": []
          },
          "execution_count": 4
        }
      ]
    },
    {
      "cell_type": "code",
      "metadata": {
        "id": "Z1QynYyD5b7B",
        "colab_type": "code",
        "colab": {}
      },
      "source": [
        "data = df.drop(['article_link'],axis=1)"
      ],
      "execution_count": 0,
      "outputs": []
    },
    {
      "cell_type": "code",
      "metadata": {
        "id": "k3KT1V1q57r7",
        "colab_type": "code",
        "colab": {
          "base_uri": "https://localhost:8080/",
          "height": 196
        },
        "outputId": "ee1d0ecc-8868-4f00-97e6-6c496236bc1c"
      },
      "source": [
        "data.head()"
      ],
      "execution_count": 6,
      "outputs": [
        {
          "output_type": "execute_result",
          "data": {
            "text/html": [
              "<div>\n",
              "<style scoped>\n",
              "    .dataframe tbody tr th:only-of-type {\n",
              "        vertical-align: middle;\n",
              "    }\n",
              "\n",
              "    .dataframe tbody tr th {\n",
              "        vertical-align: top;\n",
              "    }\n",
              "\n",
              "    .dataframe thead th {\n",
              "        text-align: right;\n",
              "    }\n",
              "</style>\n",
              "<table border=\"1\" class=\"dataframe\">\n",
              "  <thead>\n",
              "    <tr style=\"text-align: right;\">\n",
              "      <th></th>\n",
              "      <th>is_sarcastic</th>\n",
              "      <th>headline</th>\n",
              "    </tr>\n",
              "  </thead>\n",
              "  <tbody>\n",
              "    <tr>\n",
              "      <th>0</th>\n",
              "      <td>1</td>\n",
              "      <td>thirtysomething scientists unveil doomsday clo...</td>\n",
              "    </tr>\n",
              "    <tr>\n",
              "      <th>1</th>\n",
              "      <td>0</td>\n",
              "      <td>dem rep. totally nails why congress is falling...</td>\n",
              "    </tr>\n",
              "    <tr>\n",
              "      <th>2</th>\n",
              "      <td>0</td>\n",
              "      <td>eat your veggies: 9 deliciously different recipes</td>\n",
              "    </tr>\n",
              "    <tr>\n",
              "      <th>3</th>\n",
              "      <td>1</td>\n",
              "      <td>inclement weather prevents liar from getting t...</td>\n",
              "    </tr>\n",
              "    <tr>\n",
              "      <th>4</th>\n",
              "      <td>1</td>\n",
              "      <td>mother comes pretty close to using word 'strea...</td>\n",
              "    </tr>\n",
              "  </tbody>\n",
              "</table>\n",
              "</div>"
            ],
            "text/plain": [
              "   is_sarcastic                                           headline\n",
              "0             1  thirtysomething scientists unveil doomsday clo...\n",
              "1             0  dem rep. totally nails why congress is falling...\n",
              "2             0  eat your veggies: 9 deliciously different recipes\n",
              "3             1  inclement weather prevents liar from getting t...\n",
              "4             1  mother comes pretty close to using word 'strea..."
            ]
          },
          "metadata": {
            "tags": []
          },
          "execution_count": 6
        }
      ]
    },
    {
      "cell_type": "markdown",
      "metadata": {
        "id": "6l8V--DL_nq0",
        "colab_type": "text"
      },
      "source": [
        "**Check for missing** **values**"
      ]
    },
    {
      "cell_type": "code",
      "metadata": {
        "id": "LRGeVyt15mUJ",
        "colab_type": "code",
        "colab": {
          "base_uri": "https://localhost:8080/",
          "height": 67
        },
        "outputId": "8fad7ae7-7abf-4f2d-e348-51670080a997"
      },
      "source": [
        "data.isnull().sum()"
      ],
      "execution_count": 7,
      "outputs": [
        {
          "output_type": "execute_result",
          "data": {
            "text/plain": [
              "is_sarcastic    0\n",
              "headline        0\n",
              "dtype: int64"
            ]
          },
          "metadata": {
            "tags": []
          },
          "execution_count": 7
        }
      ]
    },
    {
      "cell_type": "code",
      "metadata": {
        "id": "yOryGKg350ug",
        "colab_type": "code",
        "colab": {}
      },
      "source": [
        "target = df['is_sarcastic'].values"
      ],
      "execution_count": 0,
      "outputs": []
    },
    {
      "cell_type": "code",
      "metadata": {
        "id": "VtBg4mnH6SC2",
        "colab_type": "code",
        "colab": {
          "base_uri": "https://localhost:8080/",
          "height": 67
        },
        "outputId": "ef0c0aef-80bd-4108-fa13-b641ef6a79e7"
      },
      "source": [
        "df['is_sarcastic'].value_counts()"
      ],
      "execution_count": 9,
      "outputs": [
        {
          "output_type": "execute_result",
          "data": {
            "text/plain": [
              "0    14985\n",
              "1    13634\n",
              "Name: is_sarcastic, dtype: int64"
            ]
          },
          "metadata": {
            "tags": []
          },
          "execution_count": 9
        }
      ]
    },
    {
      "cell_type": "markdown",
      "metadata": {
        "id": "ngUHPF5n_z2L",
        "colab_type": "text"
      },
      "source": [
        "**Pie chart showing the percentage of sarcastic and non-sarcastic headline**"
      ]
    },
    {
      "cell_type": "code",
      "metadata": {
        "id": "Ckz-Rb2zqJpr",
        "colab_type": "code",
        "colab": {
          "base_uri": "https://localhost:8080/",
          "height": 248
        },
        "outputId": "e1bf0a94-3e52-4d68-dd80-4ac404b7deff"
      },
      "source": [
        "# import the pyplot library\n",
        "import matplotlib.pyplot as plotter\n",
        "# The slice names of a sarcasm distribution pie chart\n",
        "pieLabels   = 'Non-sarcastic', 'sarcastic'\n",
        "# sarcasm data\n",
        "is_sarcastic     = [14985, 13634]\n",
        "figureObject, axesObject = plotter.subplots()\n",
        "# Draw the pie chart\n",
        "axesObject.pie(populationShare,labels=pieLabels,autopct='%1.2f',startangle=90)\n",
        "axesObject.axis('equal')\n",
        "plotter.show()"
      ],
      "execution_count": 217,
      "outputs": [
        {
          "output_type": "display_data",
          "data": {
            "image/png": "[encoded data removed]",
            "text/plain": [
              "<Figure size 432x288 with 1 Axes>"
            ]
          },
          "metadata": {
            "tags": []
          }
        }
      ]
    },
    {
      "cell_type": "markdown",
      "metadata": {
        "id": "6J2QrK9Cl4dw",
        "colab_type": "text"
      },
      "source": [
        "## **Data pre-processing and using TFIDF**"
      ]
    },
    {
      "cell_type": "markdown",
      "metadata": {
        "id": "a9JZ6CjRDWyo",
        "colab_type": "text"
      },
      "source": [
        "**TFIDF Vectorizer**\n",
        "\n",
        "TFIDF is the abbreviation of Term Frequency and Inverse Document Frequency.\n",
        "\n",
        "Transforms text to feature vectors that can be used as input to estimator. vocabulary_ Is a dictionary that converts each token (word) to feature index in the matrix, each unique token gets a feature index. It tells you that the token 'me' is represented as feature number 8 in the output matrix."
      ]
    },
    {
      "cell_type": "markdown",
      "metadata": {
        "id": "t0wVcFJdETkI",
        "colab_type": "text"
      },
      "source": [
        "**Tokenize and build vocab**"
      ]
    },
    {
      "cell_type": "code",
      "metadata": {
        "id": "3HgBUiGrmOpW",
        "colab_type": "code",
        "colab": {
          "base_uri": "https://localhost:8080/",
          "height": 134
        },
        "outputId": "e3793f4a-35e2-4623-d4d2-2d9344fb9264"
      },
      "source": [
        "tfidf = TfidfVectorizer()\n",
        "tfidf.fit(data['headline'].values)"
      ],
      "execution_count": 11,
      "outputs": [
        {
          "output_type": "execute_result",
          "data": {
            "text/plain": [
              "TfidfVectorizer(analyzer='word', binary=False, decode_error='strict',\n",
              "                dtype=<class 'numpy.float64'>, encoding='utf-8',\n",
              "                input='content', lowercase=True, max_df=1.0, max_features=None,\n",
              "                min_df=1, ngram_range=(1, 1), norm='l2', preprocessor=None,\n",
              "                smooth_idf=True, stop_words=None, strip_accents=None,\n",
              "                sublinear_tf=False, token_pattern='(?u)\\\\b\\\\w\\\\w+\\\\b',\n",
              "                tokenizer=None, use_idf=True, vocabulary=None)"
            ]
          },
          "metadata": {
            "tags": []
          },
          "execution_count": 11
        }
      ]
    },
    {
      "cell_type": "markdown",
      "metadata": {
        "id": "xH_iXeHMEhL9",
        "colab_type": "text"
      },
      "source": [
        "**Initialize target**"
      ]
    },
    {
      "cell_type": "code",
      "metadata": {
        "id": "SF3hIN2ImUI3",
        "colab_type": "code",
        "colab": {}
      },
      "source": [
        "import numpy as np\n",
        "target = np.array(data['is_sarcastic'],dtype='int')"
      ],
      "execution_count": 0,
      "outputs": []
    },
    {
      "cell_type": "markdown",
      "metadata": {
        "id": "-uABmYhhEaTK",
        "colab_type": "text"
      },
      "source": [
        "**Encode document**"
      ]
    },
    {
      "cell_type": "code",
      "metadata": {
        "id": "IIRzqIBomolE",
        "colab_type": "code",
        "colab": {}
      },
      "source": [
        "vector = tfidf.transform(data['headline'].values)"
      ],
      "execution_count": 0,
      "outputs": []
    },
    {
      "cell_type": "code",
      "metadata": {
        "id": "E9RjBLOPmtEf",
        "colab_type": "code",
        "colab": {}
      },
      "source": [
        "vector = vector.toarray()"
      ],
      "execution_count": 0,
      "outputs": []
    },
    {
      "cell_type": "code",
      "metadata": {
        "id": "_dsdOGGsm1aW",
        "colab_type": "code",
        "colab": {
          "base_uri": "https://localhost:8080/",
          "height": 33
        },
        "outputId": "bac02187-88b6-4287-dfc0-395744df207a"
      },
      "source": [
        "vector.shape"
      ],
      "execution_count": 15,
      "outputs": [
        {
          "output_type": "execute_result",
          "data": {
            "text/plain": [
              "(28619, 26336)"
            ]
          },
          "metadata": {
            "tags": []
          },
          "execution_count": 15
        }
      ]
    },
    {
      "cell_type": "code",
      "metadata": {
        "id": "UJ106qEGm5ZR",
        "colab_type": "code",
        "colab": {}
      },
      "source": [
        "tsvd = TruncatedSVD(n_components=100)\n",
        "tsvd.fit(vector)\n",
        "scaled = tsvd.transform(vector)"
      ],
      "execution_count": 0,
      "outputs": []
    },
    {
      "cell_type": "code",
      "metadata": {
        "id": "z3tHmbudnBE1",
        "colab_type": "code",
        "colab": {
          "base_uri": "https://localhost:8080/",
          "height": 33
        },
        "outputId": "1fd43890-1bf3-49a7-8bd9-1252ea16e6fa"
      },
      "source": [
        "print(scaled.shape)"
      ],
      "execution_count": 20,
      "outputs": [
        {
          "output_type": "stream",
          "text": [
            "(28619, 100)\n"
          ],
          "name": "stdout"
        }
      ]
    },
    {
      "cell_type": "markdown",
      "metadata": {
        "id": "7BofPUbeHEGf",
        "colab_type": "text"
      },
      "source": [
        "**Defining the sequential model**"
      ]
    },
    {
      "cell_type": "code",
      "metadata": {
        "id": "1EkJSMNho4aV",
        "colab_type": "code",
        "colab": {}
      },
      "source": [
        "model = keras.models.Sequential([\n",
        "        keras.layers.Dense(50, input_shape=[100,], activation='relu'),\n",
        "        keras.layers.Dense(30, activation='relu'),\n",
        "        keras.layers.Dense(2, activation='sigmoid')\n",
        "]) "
      ],
      "execution_count": 0,
      "outputs": []
    },
    {
      "cell_type": "code",
      "metadata": {
        "id": "pnaB5t2xo_fi",
        "colab_type": "code",
        "colab": {}
      },
      "source": [
        "model.compile(optimizer=keras.optimizers.Adam(0.001),\n",
        "              loss=keras.losses.sparse_categorical_crossentropy,\n",
        "              metrics=['accuracy'])"
      ],
      "execution_count": 0,
      "outputs": []
    },
    {
      "cell_type": "markdown",
      "metadata": {
        "id": "tFBnp8nsHYtu",
        "colab_type": "text"
      },
      "source": [
        "**Train the model**"
      ]
    },
    {
      "cell_type": "code",
      "metadata": {
        "id": "cJ1hy6gGpDIP",
        "colab_type": "code",
        "colab": {
          "base_uri": "https://localhost:8080/",
          "height": 702
        },
        "outputId": "1f0ac01a-3d33-4921-b38a-75492fca260b"
      },
      "source": [
        "model.fit(scaled, target, epochs=20,verbose=2, validation_split=0.2)"
      ],
      "execution_count": 41,
      "outputs": [
        {
          "output_type": "stream",
          "text": [
            "Epoch 1/20\n",
            "716/716 - 1s - loss: 0.5281 - accuracy: 0.7240 - val_loss: 0.4689 - val_accuracy: 0.7731\n",
            "Epoch 2/20\n",
            "716/716 - 1s - loss: 0.4647 - accuracy: 0.7788 - val_loss: 0.4579 - val_accuracy: 0.7783\n",
            "Epoch 3/20\n",
            "716/716 - 1s - loss: 0.4580 - accuracy: 0.7815 - val_loss: 0.4525 - val_accuracy: 0.7820\n",
            "Epoch 4/20\n",
            "716/716 - 1s - loss: 0.4492 - accuracy: 0.7842 - val_loss: 0.4518 - val_accuracy: 0.7884\n",
            "Epoch 5/20\n",
            "716/716 - 1s - loss: 0.4407 - accuracy: 0.7924 - val_loss: 0.4469 - val_accuracy: 0.7883\n",
            "Epoch 6/20\n",
            "716/716 - 1s - loss: 0.4327 - accuracy: 0.7937 - val_loss: 0.4436 - val_accuracy: 0.7888\n",
            "Epoch 7/20\n",
            "716/716 - 1s - loss: 0.4238 - accuracy: 0.7998 - val_loss: 0.4446 - val_accuracy: 0.7844\n",
            "Epoch 8/20\n",
            "716/716 - 1s - loss: 0.4174 - accuracy: 0.8029 - val_loss: 0.4430 - val_accuracy: 0.7869\n",
            "Epoch 9/20\n",
            "716/716 - 1s - loss: 0.4106 - accuracy: 0.8068 - val_loss: 0.4415 - val_accuracy: 0.7904\n",
            "Epoch 10/20\n",
            "716/716 - 1s - loss: 0.4051 - accuracy: 0.8073 - val_loss: 0.4413 - val_accuracy: 0.7905\n",
            "Epoch 11/20\n",
            "716/716 - 1s - loss: 0.3976 - accuracy: 0.8149 - val_loss: 0.4458 - val_accuracy: 0.7897\n",
            "Epoch 12/20\n",
            "716/716 - 1s - loss: 0.3935 - accuracy: 0.8145 - val_loss: 0.4406 - val_accuracy: 0.7919\n",
            "Epoch 13/20\n",
            "716/716 - 1s - loss: 0.3880 - accuracy: 0.8199 - val_loss: 0.4518 - val_accuracy: 0.7863\n",
            "Epoch 14/20\n",
            "716/716 - 1s - loss: 0.3854 - accuracy: 0.8193 - val_loss: 0.4449 - val_accuracy: 0.7930\n",
            "Epoch 15/20\n",
            "716/716 - 1s - loss: 0.3802 - accuracy: 0.8234 - val_loss: 0.4513 - val_accuracy: 0.7918\n",
            "Epoch 16/20\n",
            "716/716 - 1s - loss: 0.3774 - accuracy: 0.8260 - val_loss: 0.4643 - val_accuracy: 0.7813\n",
            "Epoch 17/20\n",
            "716/716 - 1s - loss: 0.3746 - accuracy: 0.8255 - val_loss: 0.4521 - val_accuracy: 0.7897\n",
            "Epoch 18/20\n",
            "716/716 - 1s - loss: 0.3720 - accuracy: 0.8298 - val_loss: 0.4523 - val_accuracy: 0.7874\n",
            "Epoch 19/20\n",
            "716/716 - 1s - loss: 0.3673 - accuracy: 0.8306 - val_loss: 0.4619 - val_accuracy: 0.7828\n",
            "Epoch 20/20\n",
            "716/716 - 1s - loss: 0.3648 - accuracy: 0.8330 - val_loss: 0.4560 - val_accuracy: 0.7886\n"
          ],
          "name": "stdout"
        },
        {
          "output_type": "execute_result",
          "data": {
            "text/plain": [
              "<tensorflow.python.keras.callbacks.History at 0x7fac622512e8>"
            ]
          },
          "metadata": {
            "tags": []
          },
          "execution_count": 41
        }
      ]
    },
    {
      "cell_type": "markdown",
      "metadata": {
        "id": "p0wkigXMntc3",
        "colab_type": "text"
      },
      "source": [
        "# **Using word embeddings**\n",
        "\n"
      ]
    },
    {
      "cell_type": "markdown",
      "metadata": {
        "id": "WDKAgAAfN_aw",
        "colab_type": "text"
      },
      "source": [
        "In word embeddings words or phrases from the vocabulary are mapped to vectors of real numbers."
      ]
    },
    {
      "cell_type": "code",
      "metadata": {
        "id": "aHGngABi6ZQ1",
        "colab_type": "code",
        "colab": {}
      },
      "source": [
        "text = df['headline'].values"
      ],
      "execution_count": 0,
      "outputs": []
    },
    {
      "cell_type": "markdown",
      "metadata": {
        "id": "rFAywV-kIGFi",
        "colab_type": "text"
      },
      "source": [
        "**Tokenize each sentence**"
      ]
    },
    {
      "cell_type": "code",
      "metadata": {
        "id": "oajNUjhe644i",
        "colab_type": "code",
        "colab": {
          "base_uri": "https://localhost:8080/",
          "height": 150
        },
        "outputId": "4e8f5591-dc86-4ac1-882a-d7e795a47b5c"
      },
      "source": [
        "text_arr = [row.split(' ') for row in text]\n",
        "text_arr[0]"
      ],
      "execution_count": 11,
      "outputs": [
        {
          "output_type": "execute_result",
          "data": {
            "text/plain": [
              "['thirtysomething',\n",
              " 'scientists',\n",
              " 'unveil',\n",
              " 'doomsday',\n",
              " 'clock',\n",
              " 'of',\n",
              " 'hair',\n",
              " 'loss']"
            ]
          },
          "metadata": {
            "tags": []
          },
          "execution_count": 11
        }
      ]
    },
    {
      "cell_type": "markdown",
      "metadata": {
        "id": "rrWUSrTpH41y",
        "colab_type": "text"
      },
      "source": [
        "**Function to clean token vector of symbols**"
      ]
    },
    {
      "cell_type": "code",
      "metadata": {
        "id": "iWLmu2_S7Cvu",
        "colab_type": "code",
        "colab": {}
      },
      "source": [
        "def clean_word(word_list):\n",
        "  new = []\n",
        "  for i, word in enumerate(word_list):\n",
        "    word = word.replace('.', '')\n",
        "    word = word.replace(',', '')\n",
        "    word = word.replace(';', '')\n",
        "\n",
        "    word = word.lower()\n",
        "    if word.isalpha() or word.isdigit():\n",
        "      new.append(word)\n",
        "    \n",
        "  return new"
      ],
      "execution_count": 0,
      "outputs": []
    },
    {
      "cell_type": "markdown",
      "metadata": {
        "id": "FsIt6NCYIRLw",
        "colab_type": "text"
      },
      "source": [
        "**Clean every token word and create vocabulary out of it.**"
      ]
    },
    {
      "cell_type": "code",
      "metadata": {
        "id": "QsSn02mP7JvZ",
        "colab_type": "code",
        "colab": {}
      },
      "source": [
        "vocab = []\n",
        "clean_text_array = []\n",
        "\n",
        "for row in text_arr:\n",
        "  clean_row = clean_word(row)\n",
        "  clean_text_array.append(clean_row)\n",
        "  vocab.extend(clean_row)"
      ],
      "execution_count": 0,
      "outputs": []
    },
    {
      "cell_type": "markdown",
      "metadata": {
        "id": "z8qzsDqYIXkM",
        "colab_type": "text"
      },
      "source": [
        "**making sure each word appears only once in the vocabulary**"
      ]
    },
    {
      "cell_type": "code",
      "metadata": {
        "id": "NCqe_3uF7Nud",
        "colab_type": "code",
        "colab": {}
      },
      "source": [
        "vocabulary = list(set(clean_word(vocab)))"
      ],
      "execution_count": 0,
      "outputs": []
    },
    {
      "cell_type": "code",
      "metadata": {
        "id": "OkvXgw7U7Tf_",
        "colab_type": "code",
        "colab": {
          "base_uri": "https://localhost:8080/",
          "height": 33
        },
        "outputId": "3b2d43f9-1085-4f00-c154-eb31b7605b4e"
      },
      "source": [
        "len(vocabulary)"
      ],
      "execution_count": 168,
      "outputs": [
        {
          "output_type": "execute_result",
          "data": {
            "text/plain": [
              "24679"
            ]
          },
          "metadata": {
            "tags": []
          },
          "execution_count": 168
        }
      ]
    },
    {
      "cell_type": "code",
      "metadata": {
        "id": "7ugPaIZ77YVw",
        "colab_type": "code",
        "colab": {}
      },
      "source": [
        "from sklearn.preprocessing import LabelEncoder\n"
      ],
      "execution_count": 0,
      "outputs": []
    },
    {
      "cell_type": "markdown",
      "metadata": {
        "id": "6PucA2R4IlFh",
        "colab_type": "text"
      },
      "source": [
        "**Create token vector using Label Encoder to fit on entire vocabulary**"
      ]
    },
    {
      "cell_type": "code",
      "metadata": {
        "id": "_tqVdi4r7eg0",
        "colab_type": "code",
        "colab": {}
      },
      "source": [
        "vectorizer = LabelEncoder()\n",
        "vectorizer.fit(vocabulary)\n",
        "\n",
        "token_vector = []\n",
        "\n",
        "# declare max_words to keep count of the longest sentence vectorized\n",
        "# we need this to pad every other vector to same length as longest vector\n",
        "max_words = 0 \n",
        "for row in clean_text_array:\n",
        "  encoded = vectorizer.transform(row).tolist()\n",
        "  size = len(encoded)\n",
        "  if size>max_words: max_words=size\n",
        "  token_vector.append(encoded)"
      ],
      "execution_count": 0,
      "outputs": []
    },
    {
      "cell_type": "code",
      "metadata": {
        "id": "s28V6Zrf7nQJ",
        "colab_type": "code",
        "colab": {
          "base_uri": "https://localhost:8080/",
          "height": 33
        },
        "outputId": "b66545f9-1722-4be1-c405-00e2ad6636e1"
      },
      "source": [
        "vectorizer.classes_[1379]"
      ],
      "execution_count": 171,
      "outputs": [
        {
          "output_type": "execute_result",
          "data": {
            "text/plain": [
              "'articulated'"
            ]
          },
          "metadata": {
            "tags": []
          },
          "execution_count": 171
        }
      ]
    },
    {
      "cell_type": "code",
      "metadata": {
        "id": "iEsLinzA79bF",
        "colab_type": "code",
        "colab": {
          "base_uri": "https://localhost:8080/",
          "height": 33
        },
        "outputId": "2239c669-0389-4599-a50b-8622c465056c"
      },
      "source": [
        "max_words"
      ],
      "execution_count": 172,
      "outputs": [
        {
          "output_type": "execute_result",
          "data": {
            "text/plain": [
              "150"
            ]
          },
          "metadata": {
            "tags": []
          },
          "execution_count": 172
        }
      ]
    },
    {
      "cell_type": "markdown",
      "metadata": {
        "id": "TeXQeFdPI1bP",
        "colab_type": "text"
      },
      "source": [
        "**Pad every vector in token vector corpus to be as long as longest vector**"
      ]
    },
    {
      "cell_type": "code",
      "metadata": {
        "id": "3ed3h9kH8CHQ",
        "colab_type": "code",
        "colab": {}
      },
      "source": [
        "padded = []\n",
        "for row in token_vector:\n",
        "  r = np.pad(row, (0, max_words-len(row)), 'constant')\n",
        "  padded.append(r)"
      ],
      "execution_count": 0,
      "outputs": []
    },
    {
      "cell_type": "markdown",
      "metadata": {
        "id": "nSFG_jYGI89y",
        "colab_type": "text"
      },
      "source": [
        "**Convert it into numpy array, we'll call this the examples vector as it contains all the example to be trained on**"
      ]
    },
    {
      "cell_type": "code",
      "metadata": {
        "id": "7P_FhcOD8F60",
        "colab_type": "code",
        "colab": {}
      },
      "source": [
        "ex_vector = np.array(padded)"
      ],
      "execution_count": 0,
      "outputs": []
    },
    {
      "cell_type": "code",
      "metadata": {
        "id": "0cNOmPWP8V1n",
        "colab_type": "code",
        "colab": {
          "base_uri": "https://localhost:8080/",
          "height": 134
        },
        "outputId": "c1c37224-e544-43c5-b986-d5d2a1073b3d"
      },
      "source": [
        "ex_vector"
      ],
      "execution_count": 175,
      "outputs": [
        {
          "output_type": "execute_result",
          "data": {
            "text/plain": [
              "array([[22124., 19267., 23267., ...,     0.,     0.,     0.],\n",
              "       [ 5897., 18212., 22413., ...,     0.,     0.,     0.],\n",
              "       [ 7062., 24578.,   322., ...,     0.,     0.,     0.],\n",
              "       ...,\n",
              "       [22060., 14311.,  2065., ...,     0.,     0.,     0.],\n",
              "       [13428., 17031.,  6099., ...,     0.,     0.,     0.],\n",
              "       [ 5507.,  4139., 22125., ...,     0.,     0.,     0.]])"
            ]
          },
          "metadata": {
            "tags": []
          },
          "execution_count": 175
        }
      ]
    },
    {
      "cell_type": "markdown",
      "metadata": {
        "id": "QTlDII4AJMr6",
        "colab_type": "text"
      },
      "source": [
        "**Split the data into train and test data**"
      ]
    },
    {
      "cell_type": "code",
      "metadata": {
        "id": "vIsLJiel8lAF",
        "colab_type": "code",
        "colab": {}
      },
      "source": [
        "xtrain, xtest, ytrain, ytest = train_test_split(ex_vector,target, test_size=0.2)"
      ],
      "execution_count": 0,
      "outputs": []
    },
    {
      "cell_type": "code",
      "metadata": {
        "id": "qEAWRlcZ8p4m",
        "colab_type": "code",
        "colab": {
          "base_uri": "https://localhost:8080/",
          "height": 33
        },
        "outputId": "e850aa54-d4e4-4d51-bfc0-0a8efa05c0c0"
      },
      "source": [
        "ytrain"
      ],
      "execution_count": 294,
      "outputs": [
        {
          "output_type": "execute_result",
          "data": {
            "text/plain": [
              "array([0, 0, 1, ..., 0, 1, 0])"
            ]
          },
          "metadata": {
            "tags": []
          },
          "execution_count": 294
        }
      ]
    },
    {
      "cell_type": "markdown",
      "metadata": {
        "id": "FEVjw8hEJdic",
        "colab_type": "text"
      },
      "source": [
        "**Load and convert the numpy array into a Tensor and then transform that into a BatchDataset TF Object to load into the Embedding Layer to the Keras Model**"
      ]
    },
    {
      "cell_type": "code",
      "metadata": {
        "id": "xDMhNV588wv0",
        "colab_type": "code",
        "colab": {}
      },
      "source": [
        "#Create a tensor out of numpy array\n",
        "train_dataset = tf.data.Dataset.from_tensor_slices((xtrain, ytrain))\n",
        "test_dataset = tf.data.Dataset.from_tensor_slices((xtest, ytest))"
      ],
      "execution_count": 0,
      "outputs": []
    },
    {
      "cell_type": "code",
      "metadata": {
        "id": "ArTR2QLq824H",
        "colab_type": "code",
        "colab": {}
      },
      "source": [
        "#Shuffle the data and create batches out of it\n",
        "BATCH_SIZE = 64\n",
        "SHUFFLE_BUFFER_SIZE = 100\n",
        "\n",
        "train_dataset = train_dataset.shuffle(SHUFFLE_BUFFER_SIZE).batch(BATCH_SIZE)\n",
        "test_dataset = test_dataset.batch(BATCH_SIZE)"
      ],
      "execution_count": 0,
      "outputs": []
    },
    {
      "cell_type": "markdown",
      "metadata": {
        "id": "J2_tH0ghJ-oR",
        "colab_type": "text"
      },
      "source": [
        " **Creating the model**\n",
        "\n",
        "Define the embedding dimensions // features around which the model will learn based on correlation"
      ]
    },
    {
      "cell_type": "code",
      "metadata": {
        "id": "z5YO2clB86kO",
        "colab_type": "code",
        "colab": {}
      },
      "source": [
        "embedding_dim=16\n",
        "\n",
        "# defining the sequential model with an Embedding layer\n",
        "# Add a Global Average Pooling 1D layer to flattent the matrix into vector\n",
        "model = keras.models.Sequential([\n",
        "  keras.layers.Embedding(24679, embedding_dim),\n",
        "  keras.layers.GlobalAveragePooling1D(),\n",
        "  keras.layers.Dense(32, activation='relu'),\n",
        "  keras.layers.Dense(1, activation='sigmoid')\n",
        "])\n"
      ],
      "execution_count": 0,
      "outputs": []
    },
    {
      "cell_type": "code",
      "metadata": {
        "id": "Bhcs0CO78_BO",
        "colab_type": "code",
        "colab": {}
      },
      "source": [
        "model.compile(optimizer=keras.optimizers.RMSprop(0.001),\n",
        "              loss=tf.keras.losses.BinaryCrossentropy(),\n",
        "              metrics=['accuracy'])"
      ],
      "execution_count": 0,
      "outputs": []
    },
    {
      "cell_type": "markdown",
      "metadata": {
        "id": "FSmtshcPKRFT",
        "colab_type": "text"
      },
      "source": [
        "**Train the model**"
      ]
    },
    {
      "cell_type": "code",
      "metadata": {
        "id": "AkCrvs-v9DTP",
        "colab_type": "code",
        "colab": {
          "base_uri": "https://localhost:8080/",
          "height": 351
        },
        "outputId": "7e931290-b850-4b5e-bd7a-15a67fa08c49"
      },
      "source": [
        "epochs=10\n",
        "history = model.fit(train_dataset, epochs=epochs, validation_data=test_dataset, verbose=2)"
      ],
      "execution_count": 300,
      "outputs": [
        {
          "output_type": "stream",
          "text": [
            "Epoch 1/10\n",
            "358/358 - 2s - loss: 0.6880 - accuracy: 0.5264 - val_loss: 0.6786 - val_accuracy: 0.5522\n",
            "Epoch 2/10\n",
            "358/358 - 2s - loss: 0.6398 - accuracy: 0.7060 - val_loss: 0.5867 - val_accuracy: 0.7781\n",
            "Epoch 3/10\n",
            "358/358 - 2s - loss: 0.5179 - accuracy: 0.8026 - val_loss: 0.4669 - val_accuracy: 0.8064\n",
            "Epoch 4/10\n",
            "358/358 - 2s - loss: 0.4225 - accuracy: 0.8231 - val_loss: 0.4134 - val_accuracy: 0.8202\n",
            "Epoch 5/10\n",
            "358/358 - 2s - loss: 0.3767 - accuracy: 0.8408 - val_loss: 0.3908 - val_accuracy: 0.8309\n",
            "Epoch 6/10\n",
            "358/358 - 2s - loss: 0.3488 - accuracy: 0.8525 - val_loss: 0.3793 - val_accuracy: 0.8344\n",
            "Epoch 7/10\n",
            "358/358 - 2s - loss: 0.3281 - accuracy: 0.8628 - val_loss: 0.3702 - val_accuracy: 0.8421\n",
            "Epoch 8/10\n",
            "358/358 - 2s - loss: 0.3102 - accuracy: 0.8697 - val_loss: 0.3697 - val_accuracy: 0.8387\n",
            "Epoch 9/10\n",
            "358/358 - 2s - loss: 0.2963 - accuracy: 0.8759 - val_loss: 0.3855 - val_accuracy: 0.8256\n",
            "Epoch 10/10\n",
            "358/358 - 1s - loss: 0.2841 - accuracy: 0.8829 - val_loss: 0.3609 - val_accuracy: 0.8419\n"
          ],
          "name": "stdout"
        }
      ]
    },
    {
      "cell_type": "markdown",
      "metadata": {
        "id": "gynbyvHoKXgj",
        "colab_type": "text"
      },
      "source": [
        "**Accuracy graph**"
      ]
    },
    {
      "cell_type": "code",
      "metadata": {
        "id": "_n-AH-ow9H3N",
        "colab_type": "code",
        "colab": {
          "base_uri": "https://localhost:8080/",
          "height": 286
        },
        "outputId": "a4342380-d534-4d46-8a17-a750146d63c6"
      },
      "source": [
        "plt.plot(range(epochs), history.history['accuracy'])\n",
        "plt.plot(range(epochs), history.history['val_accuracy'])"
      ],
      "execution_count": 301,
      "outputs": [
        {
          "output_type": "execute_result",
          "data": {
            "text/plain": [
              "[<matplotlib.lines.Line2D at 0x7fae11c2ef28>]"
            ]
          },
          "metadata": {
            "tags": []
          },
          "execution_count": 301
        },
        {
          "output_type": "display_data",
          "data": {
            "image/png": "[encoded data removed]",
            "text/plain": [
              "<Figure size 432x288 with 1 Axes>"
            ]
          },
          "metadata": {
            "tags": [],
            "needs_background": "light"
          }
        }
      ]
    },
    {
      "cell_type": "markdown",
      "metadata": {
        "id": "GgIgjSqpKacl",
        "colab_type": "text"
      },
      "source": [
        "**Loss graph**"
      ]
    },
    {
      "cell_type": "code",
      "metadata": {
        "id": "DlulRNqgDhxN",
        "colab_type": "code",
        "colab": {
          "base_uri": "https://localhost:8080/",
          "height": 281
        },
        "outputId": "70b118cb-fa62-406a-f023-926e64ca9501"
      },
      "source": [
        "plt.plot(range(epochs), history.history['loss'])\n",
        "plt.plot(range(epochs), history.history['val_loss'])"
      ],
      "execution_count": 302,
      "outputs": [
        {
          "output_type": "execute_result",
          "data": {
            "text/plain": [
              "[<matplotlib.lines.Line2D at 0x7fae11cbdcc0>]"
            ]
          },
          "metadata": {
            "tags": []
          },
          "execution_count": 302
        },
        {
          "output_type": "display_data",
          "data": {
            "image/png": "[encoded data removed]",
            "text/plain": [
              "<Figure size 432x288 with 1 Axes>"
            ]
          },
          "metadata": {
            "tags": [],
            "needs_background": "light"
          }
        }
      ]
    },
    {
      "cell_type": "markdown",
      "metadata": {
        "id": "49-YQT-Nq2f4",
        "colab_type": "text"
      },
      "source": [
        "# **Using RNN**"
      ]
    },
    {
      "cell_type": "markdown",
      "metadata": {
        "id": "yF6XDasITNyz",
        "colab_type": "text"
      },
      "source": [
        "RNN a recurrent neural network is a class of artificial neural network. Unlike feed-forward neural networks, recurrent neural networks have a backward connection between hidden layers. Therefore, they have some kind of memory in them."
      ]
    },
    {
      "cell_type": "markdown",
      "metadata": {
        "id": "V9bYcMd0PR3w",
        "colab_type": "text"
      },
      "source": [
        "**Filtering headlines So that only valid headlines remain** "
      ]
    },
    {
      "cell_type": "code",
      "metadata": {
        "id": "p-GEh-aTROkP",
        "colab_type": "code",
        "colab": {}
      },
      "source": [
        "data['headline'] = data['headline'].apply(lambda x: x.lower())\n",
        "data['headline'] = data['headline'].apply((lambda x: re.sub('[^a-zA-z0-9\\s]','',x)))"
      ],
      "execution_count": 0,
      "outputs": []
    },
    {
      "cell_type": "markdown",
      "metadata": {
        "id": "hTlqQdklR89N",
        "colab_type": "text"
      },
      "source": [
        "**Using Tokenizer to vectorize and convert text into Sequences**"
      ]
    },
    {
      "cell_type": "code",
      "metadata": {
        "id": "BBrMAIySq8gE",
        "colab_type": "code",
        "colab": {}
      },
      "source": [
        "max_features = 2000\n",
        "t = Tokenizer(num_words=max_features, split=' ')"
      ],
      "execution_count": 0,
      "outputs": []
    },
    {
      "cell_type": "code",
      "metadata": {
        "id": "KaH3SMP9rJGh",
        "colab_type": "code",
        "colab": {}
      },
      "source": [
        "t.fit_on_texts(data['headline'].values)"
      ],
      "execution_count": 0,
      "outputs": []
    },
    {
      "cell_type": "code",
      "metadata": {
        "id": "N5NDGKIqr1qI",
        "colab_type": "code",
        "colab": {}
      },
      "source": [
        "x = t.texts_to_sequences(df['headline'].values)\n",
        "x = pad_sequences(x)"
      ],
      "execution_count": 0,
      "outputs": []
    },
    {
      "cell_type": "code",
      "metadata": {
        "id": "P4iL-lsC7nIA",
        "colab_type": "code",
        "colab": {}
      },
      "source": [
        "y = pd.get_dummies(df['is_sarcastic']).values"
      ],
      "execution_count": 0,
      "outputs": []
    },
    {
      "cell_type": "code",
      "metadata": {
        "id": "36Gc8hDZ9qxQ",
        "colab_type": "code",
        "colab": {}
      },
      "source": [
        "xtrain, xtest, ytrain, ytest = train_test_split(x,y, test_size = 0.33, random_state = 42)"
      ],
      "execution_count": 0,
      "outputs": []
    },
    {
      "cell_type": "code",
      "metadata": {
        "id": "w4Vql_huBLZX",
        "colab_type": "code",
        "colab": {
          "base_uri": "https://localhost:8080/",
          "height": 50
        },
        "outputId": "802c7823-6756-4bb7-8a4c-09280a699bec"
      },
      "source": [
        "print(xtrain.shape,ytrain.shape)\n",
        "print(xtest.shape,ytest.shape)"
      ],
      "execution_count": 242,
      "outputs": [
        {
          "output_type": "stream",
          "text": [
            "(19174, 76) (19174, 2)\n",
            "(9445, 76) (9445, 2)\n"
          ],
          "name": "stdout"
        }
      ]
    },
    {
      "cell_type": "markdown",
      "metadata": {
        "id": "Ud6z0LcISJjt",
        "colab_type": "text"
      },
      "source": [
        "**Define the LSTM RNN Model**"
      ]
    },
    {
      "cell_type": "markdown",
      "metadata": {
        "id": "5NZvndscTwOR",
        "colab_type": "text"
      },
      "source": [
        "LSTM(Long short term memory) is used to remember past data in memory"
      ]
    },
    {
      "cell_type": "code",
      "metadata": {
        "id": "WufwcSlR8XtX",
        "colab_type": "code",
        "colab": {}
      },
      "source": [
        "from keras.layers import Dense, Embedding, LSTM, SpatialDropout1D\n",
        "embed_dim = 128\n",
        "lstm_out = 196\n",
        "\n",
        "model = Sequential()\n",
        "model.add(Embedding(max_features, embed_dim,input_length = x.shape[1]))\n",
        "model.add(SpatialDropout1D(0.4))\n",
        "model.add(LSTM(lstm_out, dropout=0.2, recurrent_dropout=0.2))\n",
        "model.add(Dense(2,activation='softmax'))\n",
        "model.compile(loss = 'categorical_crossentropy', optimizer='adam',metrics = ['accuracy'])"
      ],
      "execution_count": 0,
      "outputs": []
    },
    {
      "cell_type": "code",
      "metadata": {
        "id": "Ix5DzjmP82KI",
        "colab_type": "code",
        "colab": {
          "base_uri": "https://localhost:8080/",
          "height": 920
        },
        "outputId": "96f17bee-a854-4a25-9a27-7f5ce8252232"
      },
      "source": [
        "batch_size = 32\n",
        "history = model.fit(xtrain, ytrain, epochs = 25, batch_size=batch_size, verbose = 2)"
      ],
      "execution_count": 244,
      "outputs": [
        {
          "output_type": "stream",
          "text": [
            "/usr/local/lib/python3.6/dist-packages/tensorflow/python/framework/indexed_slices.py:434: UserWarning:\n",
            "\n",
            "Converting sparse IndexedSlices to a dense Tensor of unknown shape. This may consume a large amount of memory.\n",
            "\n"
          ],
          "name": "stderr"
        },
        {
          "output_type": "stream",
          "text": [
            "Epoch 1/25\n",
            " - 124s - loss: 0.4522 - accuracy: 0.7813\n",
            "Epoch 2/25\n",
            " - 119s - loss: 0.3462 - accuracy: 0.8491\n",
            "Epoch 3/25\n",
            " - 119s - loss: 0.3102 - accuracy: 0.8671\n",
            "Epoch 4/25\n",
            " - 120s - loss: 0.2870 - accuracy: 0.8786\n",
            "Epoch 5/25\n",
            " - 120s - loss: 0.2706 - accuracy: 0.8850\n",
            "Epoch 6/25\n",
            " - 120s - loss: 0.2522 - accuracy: 0.8938\n",
            "Epoch 7/25\n",
            " - 119s - loss: 0.2380 - accuracy: 0.8986\n",
            "Epoch 8/25\n",
            " - 117s - loss: 0.2264 - accuracy: 0.9038\n",
            "Epoch 9/25\n",
            " - 118s - loss: 0.2095 - accuracy: 0.9104\n",
            "Epoch 10/25\n",
            " - 117s - loss: 0.2034 - accuracy: 0.9149\n",
            "Epoch 11/25\n",
            " - 119s - loss: 0.1846 - accuracy: 0.9230\n",
            "Epoch 12/25\n",
            " - 121s - loss: 0.1725 - accuracy: 0.9275\n",
            "Epoch 13/25\n",
            " - 121s - loss: 0.1604 - accuracy: 0.9326\n",
            "Epoch 14/25\n",
            " - 121s - loss: 0.1538 - accuracy: 0.9363\n",
            "Epoch 15/25\n",
            " - 119s - loss: 0.1391 - accuracy: 0.9421\n",
            "Epoch 16/25\n",
            " - 119s - loss: 0.1267 - accuracy: 0.9486\n",
            "Epoch 17/25\n",
            " - 129s - loss: 0.1186 - accuracy: 0.9522\n",
            "Epoch 18/25\n",
            " - 141s - loss: 0.1132 - accuracy: 0.9542\n",
            "Epoch 19/25\n",
            " - 140s - loss: 0.0968 - accuracy: 0.9620\n",
            "Epoch 20/25\n",
            " - 128s - loss: 0.0940 - accuracy: 0.9621\n",
            "Epoch 21/25\n",
            " - 126s - loss: 0.0878 - accuracy: 0.9641\n",
            "Epoch 22/25\n",
            " - 125s - loss: 0.0847 - accuracy: 0.9646\n",
            "Epoch 23/25\n",
            " - 130s - loss: 0.0753 - accuracy: 0.9702\n",
            "Epoch 24/25\n",
            " - 124s - loss: 0.0729 - accuracy: 0.9714\n",
            "Epoch 25/25\n",
            " - 122s - loss: 0.0691 - accuracy: 0.9730\n"
          ],
          "name": "stdout"
        }
      ]
    },
    {
      "cell_type": "markdown",
      "metadata": {
        "id": "yCKs5L3ddjh2",
        "colab_type": "text"
      },
      "source": [
        "# **Conclusion**\n",
        "Using TFIDF the accuracy is 83%\n",
        "\n",
        "Using Word Embeddings the accuracy is 88% \n",
        "\n",
        "And for LSTM/RNN Model the accuracy is 97.40% which is most accurate among all others\n",
        "\n",
        "Hence RNN Model best predicts if a sentence is Sarcastic or not."
      ]
    }
  ]
}